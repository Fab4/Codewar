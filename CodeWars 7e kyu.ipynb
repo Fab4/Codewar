{
 "metadata": {
  "language_info": {
   "codemirror_mode": {
    "name": "ipython",
    "version": 3
   },
   "file_extension": ".py",
   "mimetype": "text/x-python",
   "name": "python",
   "nbconvert_exporter": "python",
   "pygments_lexer": "ipython3",
   "version": "3.9.2-final"
  },
  "orig_nbformat": 2,
  "kernelspec": {
   "name": "python3",
   "display_name": "Python 3.9.2 64-bit",
   "metadata": {
    "interpreter": {
     "hash": "aee8b7b246df8f9039afb4144a1f6fd8d2ca17a180786b69acc140d282b71a49"
    }
   }
  }
 },
 "nbformat": 4,
 "nbformat_minor": 2,
 "cells": [
  {
   "cell_type": "code",
   "execution_count": 6,
   "metadata": {},
   "outputs": [
    {
     "output_type": "stream",
     "name": "stdout",
     "text": [
      "0\n51\n987654321\n"
     ]
    }
   ],
   "source": [
    "def descending_order(num):\n",
    "    return int(''.join(sorted(str(num), reverse=True)))\n",
    "\n",
    "print(descending_order(0))\n",
    "print(descending_order(15))\n",
    "print(descending_order(123456789))"
   ]
  },
  {
   "cell_type": "code",
   "execution_count": 19,
   "metadata": {},
   "outputs": [
    {
     "output_type": "stream",
     "name": "stdout",
     "text": [
      "811181\n"
     ]
    }
   ],
   "source": [
    "def square_digits(num):\n",
    "    resultat = \"\"\n",
    "    for i in str(num):\n",
    "        resultat += str(int(i) ** 2)\n",
    "    return int(resultat)\n",
    "\n",
    "print(square_digits(9119))"
   ]
  },
  {
   "cell_type": "code",
   "execution_count": 20,
   "metadata": {},
   "outputs": [
    {
     "output_type": "stream",
     "name": "stdout",
     "text": [
      "811181\n"
     ]
    }
   ],
   "source": [
    "def square_digits(num):\n",
    "    return int(''.join(str(int(d)**2) for d in str(num)))\n",
    "\n",
    "print(square_digits(9119))"
   ]
  },
  {
   "cell_type": "code",
   "execution_count": 36,
   "metadata": {},
   "outputs": [
    {
     "output_type": "stream",
     "name": "stdout",
     "text": [
      "1\n-1\n2\n51\n"
     ]
    }
   ],
   "source": [
    "def dig_pow(n, p):\n",
    "    listn = []\n",
    "    somme = 0\n",
    "    for i in str(n):\n",
    "        listn.append(int(i))\n",
    "    for i in range(len(listn)):\n",
    "        somme += listn[i] ** (p)\n",
    "        p += 1\n",
    "\n",
    "    if somme % n == 0:\n",
    "        return int(somme//n)    \n",
    "\n",
    "    return -1\n",
    "\n",
    "print(dig_pow(89, 1))\n",
    "print(dig_pow(92, 1))\n",
    "print(dig_pow(695, 2))\n",
    "print(dig_pow(46288, 3))"
   ]
  },
  {
   "cell_type": "code",
   "execution_count": null,
   "metadata": {},
   "outputs": [],
   "source": [
    "def dig_pow(n, p):\n",
    "  s = 0\n",
    "  for i,c in enumerate(str(n)):\n",
    "     s += pow(int(c),p+i)\n",
    "  return s/n if s%n==0 else -1\n"
   ]
  },
  {
   "cell_type": "code",
   "execution_count": null,
   "metadata": {},
   "outputs": [],
   "source": [
    "def dig_pow(n, p):\n",
    "    k, fail = divmod(sum(int(d)**(p + i) for i, d in enumerate(str(n))), n)\n",
    "    return -1 if fail else k\n"
   ]
  },
  {
   "cell_type": "code",
   "execution_count": null,
   "metadata": {},
   "outputs": [],
   "source": [
    "def dig_pow(n, p):\n",
    "  t = sum( int(d) ** (p+i) for i, d in enumerate(str(n)) )\n",
    "  return t//n if t%n==0 else -1"
   ]
  },
  {
   "cell_type": "code",
   "execution_count": 49,
   "metadata": {},
   "outputs": [
    {
     "output_type": "stream",
     "name": "stdout",
     "text": [
      "3\n1\n-1\n3\n0\n6\n-1\n0 Should pick the first index if more cases are valid\n3\n-1\n"
     ]
    }
   ],
   "source": [
    "def find_even_index(arr):\n",
    "    for i in range(len(arr)):\n",
    "        sommeDroite = 0\n",
    "        sommeGauche  = 0\n",
    "        for j in range(0, i):\n",
    "            sommeGauche += arr[j]\n",
    "        for j in range(i+1, len(arr)):\n",
    "            sommeDroite += arr[j]\n",
    "        if sommeDroite == sommeGauche:\n",
    "            return i\n",
    "    return -1\n",
    "\n",
    "\n",
    "def affiche_liste_index(liste):\n",
    "  for index in range(len(liste)):\n",
    "    print('index = ', index, 'élément = ', liste[index])\n",
    "  print('\\n')\n",
    "\n",
    "\n",
    "print(find_even_index([1,2,3,4,3,2,1]))\n",
    "print(find_even_index([1,100,50,-51,1,1]))\n",
    "print(find_even_index([1,2,3,4,5,6]))\n",
    "print(find_even_index([20,10,30,10,10,15,35]))\n",
    "print(find_even_index([20,10,-80,10,10,15,35]))\n",
    "print(find_even_index([10,-80,10,10,15,35,20]))\n",
    "print(find_even_index(list(range(1,100))))\n",
    "print(find_even_index([0,0,0,0,0]), \"Should pick the first index if more cases are valid\")\n",
    "print(find_even_index([-1,-2,-3,-4,-3,-2,-1]))\n",
    "print(find_even_index(list(range(-100,-1))))"
   ]
  },
  {
   "cell_type": "code",
   "execution_count": 50,
   "metadata": {},
   "outputs": [
    {
     "output_type": "stream",
     "name": "stdout",
     "text": [
      "3\n1\n-1\n3\n0\n6\n-1\n0 Should pick the first index if more cases are valid\n3\n-1\n"
     ]
    }
   ],
   "source": [
    "def find_even_index(arr):\n",
    "    for i in range(len(arr)):\n",
    "        if sum(arr[:i]) == sum(arr[i+1:]):\n",
    "            return i\n",
    "    return -1\n",
    "\n",
    "\n",
    "print(find_even_index([1,2,3,4,3,2,1]))\n",
    "print(find_even_index([1,100,50,-51,1,1]))\n",
    "print(find_even_index([1,2,3,4,5,6]))\n",
    "print(find_even_index([20,10,30,10,10,15,35]))\n",
    "print(find_even_index([20,10,-80,10,10,15,35]))\n",
    "print(find_even_index([10,-80,10,10,15,35,20]))\n",
    "print(find_even_index(list(range(1,100))))\n",
    "print(find_even_index([0,0,0,0,0]), \"Should pick the first index if more cases are valid\")\n",
    "print(find_even_index([-1,-2,-3,-4,-3,-2,-1]))\n",
    "print(find_even_index(list(range(-100,-1))))"
   ]
  },
  {
   "cell_type": "code",
   "execution_count": null,
   "metadata": {},
   "outputs": [],
   "source": []
  }
 ]
}