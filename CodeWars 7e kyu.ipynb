{
 "metadata": {
  "language_info": {
   "codemirror_mode": {
    "name": "ipython",
    "version": 3
   },
   "file_extension": ".py",
   "mimetype": "text/x-python",
   "name": "python",
   "nbconvert_exporter": "python",
   "pygments_lexer": "ipython3",
   "version": "3.9.2-final"
  },
  "orig_nbformat": 2,
  "kernelspec": {
   "name": "python3",
   "display_name": "Python 3.9.2 64-bit",
   "metadata": {
    "interpreter": {
     "hash": "aee8b7b246df8f9039afb4144a1f6fd8d2ca17a180786b69acc140d282b71a49"
    }
   }
  }
 },
 "nbformat": 4,
 "nbformat_minor": 2,
 "cells": [
  {
   "cell_type": "code",
   "execution_count": 6,
   "metadata": {},
   "outputs": [
    {
     "output_type": "stream",
     "name": "stdout",
     "text": [
      "0\n51\n987654321\n"
     ]
    }
   ],
   "source": [
    "def descending_order(num):\n",
    "    return int(''.join(sorted(str(num), reverse=True)))\n",
    "\n",
    "print(descending_order(0))\n",
    "print(descending_order(15))\n",
    "print(descending_order(123456789))"
   ]
  },
  {
   "cell_type": "code",
   "execution_count": 19,
   "metadata": {},
   "outputs": [
    {
     "output_type": "stream",
     "name": "stdout",
     "text": [
      "811181\n"
     ]
    }
   ],
   "source": [
    "def square_digits(num):\n",
    "    resultat = \"\"\n",
    "    for i in str(num):\n",
    "        resultat += str(int(i) ** 2)\n",
    "    return int(resultat)\n",
    "\n",
    "print(square_digits(9119))"
   ]
  },
  {
   "cell_type": "code",
   "execution_count": 20,
   "metadata": {},
   "outputs": [
    {
     "output_type": "stream",
     "name": "stdout",
     "text": [
      "811181\n"
     ]
    }
   ],
   "source": [
    "def square_digits(num):\n",
    "    return int(''.join(str(int(d)**2) for d in str(num)))\n",
    "\n",
    "print(square_digits(9119))"
   ]
  },
  {
   "cell_type": "code",
   "execution_count": 36,
   "metadata": {},
   "outputs": [
    {
     "output_type": "stream",
     "name": "stdout",
     "text": [
      "1\n-1\n2\n51\n"
     ]
    }
   ],
   "source": [
    "def dig_pow(n, p):\n",
    "    listn = []\n",
    "    somme = 0\n",
    "    for i in str(n):\n",
    "        listn.append(int(i))\n",
    "    for i in range(len(listn)):\n",
    "        somme += listn[i] ** (p)\n",
    "        p += 1\n",
    "\n",
    "    if somme % n == 0:\n",
    "        return int(somme//n)    \n",
    "\n",
    "    return -1\n",
    "\n",
    "print(dig_pow(89, 1))\n",
    "print(dig_pow(92, 1))\n",
    "print(dig_pow(695, 2))\n",
    "print(dig_pow(46288, 3))"
   ]
  },
  {
   "cell_type": "code",
   "execution_count": null,
   "metadata": {},
   "outputs": [],
   "source": [
    "def dig_pow(n, p):\n",
    "  s = 0\n",
    "  for i,c in enumerate(str(n)):\n",
    "     s += pow(int(c),p+i)\n",
    "  return s/n if s%n==0 else -1\n"
   ]
  },
  {
   "cell_type": "code",
   "execution_count": null,
   "metadata": {},
   "outputs": [],
   "source": [
    "def dig_pow(n, p):\n",
    "    k, fail = divmod(sum(int(d)**(p + i) for i, d in enumerate(str(n))), n)\n",
    "    return -1 if fail else k\n"
   ]
  },
  {
   "cell_type": "code",
   "execution_count": null,
   "metadata": {},
   "outputs": [],
   "source": [
    "def dig_pow(n, p):\n",
    "  t = sum( int(d) ** (p+i) for i, d in enumerate(str(n)) )\n",
    "  return t//n if t%n==0 else -1"
   ]
  },
  {
   "cell_type": "code",
   "execution_count": 49,
   "metadata": {},
   "outputs": [
    {
     "output_type": "stream",
     "name": "stdout",
     "text": [
      "3\n1\n-1\n3\n0\n6\n-1\n0 Should pick the first index if more cases are valid\n3\n-1\n"
     ]
    }
   ],
   "source": [
    "def find_even_index(arr):\n",
    "    for i in range(len(arr)):\n",
    "        sommeDroite = 0\n",
    "        sommeGauche  = 0\n",
    "        for j in range(0, i):\n",
    "            sommeGauche += arr[j]\n",
    "        for j in range(i+1, len(arr)):\n",
    "            sommeDroite += arr[j]\n",
    "        if sommeDroite == sommeGauche:\n",
    "            return i\n",
    "    return -1\n",
    "\n",
    "\n",
    "def affiche_liste_index(liste):\n",
    "  for index in range(len(liste)):\n",
    "    print('index = ', index, 'élément = ', liste[index])\n",
    "  print('\\n')\n",
    "\n",
    "\n",
    "print(find_even_index([1,2,3,4,3,2,1]))\n",
    "print(find_even_index([1,100,50,-51,1,1]))\n",
    "print(find_even_index([1,2,3,4,5,6]))\n",
    "print(find_even_index([20,10,30,10,10,15,35]))\n",
    "print(find_even_index([20,10,-80,10,10,15,35]))\n",
    "print(find_even_index([10,-80,10,10,15,35,20]))\n",
    "print(find_even_index(list(range(1,100))))\n",
    "print(find_even_index([0,0,0,0,0]), \"Should pick the first index if more cases are valid\")\n",
    "print(find_even_index([-1,-2,-3,-4,-3,-2,-1]))\n",
    "print(find_even_index(list(range(-100,-1))))"
   ]
  },
  {
   "cell_type": "code",
   "execution_count": 50,
   "metadata": {},
   "outputs": [
    {
     "output_type": "stream",
     "name": "stdout",
     "text": [
      "3\n1\n-1\n3\n0\n6\n-1\n0 Should pick the first index if more cases are valid\n3\n-1\n"
     ]
    }
   ],
   "source": [
    "def find_even_index(arr):\n",
    "    for i in range(len(arr)):\n",
    "        if sum(arr[:i]) == sum(arr[i+1:]):\n",
    "            return i\n",
    "    return -1\n",
    "\n",
    "\n",
    "print(find_even_index([1,2,3,4,3,2,1]))\n",
    "print(find_even_index([1,100,50,-51,1,1]))\n",
    "print(find_even_index([1,2,3,4,5,6]))\n",
    "print(find_even_index([20,10,30,10,10,15,35]))\n",
    "print(find_even_index([20,10,-80,10,10,15,35]))\n",
    "print(find_even_index([10,-80,10,10,15,35,20]))\n",
    "print(find_even_index(list(range(1,100))))\n",
    "print(find_even_index([0,0,0,0,0]), \"Should pick the first index if more cases are valid\")\n",
    "print(find_even_index([-1,-2,-3,-4,-3,-2,-1]))\n",
    "print(find_even_index(list(range(-100,-1))))"
   ]
  },
  {
   "cell_type": "code",
   "execution_count": 53,
   "metadata": {},
   "outputs": [
    {
     "output_type": "stream",
     "name": "stdout",
     "text": [
      "1 a\n2 b\n3 c\n4 d\n5 e\n6 f\n7 g\n8 h\n9 i\n10 j\n11 k\n12 l\n13 m\n14 n\n15 o\n16 p\n17 q\n18 r\n19 s\n20 t\n21 u\n22 v\n23 w\n24 x\n25 y\n26 z\n"
     ]
    }
   ],
   "source": [
    "alfabet = ['a', 'b', 'c', 'd', 'e', 'f', 'g', 'h', 'i', 'j', 'k', 'l', 'm', 'n', 'o', 'p', 'q', 'r', 's', 't', 'u', 'v', 'w', 'x', 'y', 'z']\n",
    "\n",
    "for i, j in enumerate(alfabet, 1):\n",
    "    print(i, j)\n"
   ]
  },
  {
   "cell_type": "code",
   "execution_count": 12,
   "metadata": {},
   "outputs": [
    {
     "output_type": "stream",
     "name": "stdout",
     "text": [
      "20 8 5 19 21 14 19 5 20 19 5 20 19 1 20 20 23 5 12 22 5 15 3 12 15 3 11\n20 8 5 14 1 18 23 8 1 12 2 1 3 15 14 19 1 20 13 9 4 14 9 7 8 20\n"
     ]
    }
   ],
   "source": [
    "def alphabet_position(text):\n",
    "    alfabet = ['a', 'b', 'c', 'd', 'e', 'f', 'g', 'h', 'i', 'j', 'k', 'l', 'm', 'n', 'o', 'p', 'q', 'r', 's', 't', 'u', 'v', 'w', 'x', 'y', 'z']\n",
    "    liste = []\n",
    "    resultat = ''\n",
    "    text = text.lower()\n",
    "    for i in text:\n",
    "        if i in alfabet:\n",
    "            liste += str(alfabet.index(i) + 1) + ' '\n",
    "    for i in range(len(liste)-1):\n",
    "        resultat += liste[i]\n",
    "    return resultat\n",
    "\n",
    "\n",
    "print(alphabet_position(\"The sunset sets at twelve o' clock.\"))\n",
    "print(alphabet_position(\"The narwhal bacons at midnight.\"))"
   ]
  },
  {
   "cell_type": "code",
   "execution_count": 13,
   "metadata": {},
   "outputs": [
    {
     "output_type": "stream",
     "name": "stdout",
     "text": [
      "20 8 5 19 21 14 19 5 20 19 5 20 19 1 20 20 23 5 12 22 5 15 3 12 15 3 11\n20 8 5 14 1 18 23 8 1 12 2 1 3 15 14 19 1 20 13 9 4 14 9 7 8 20\n"
     ]
    }
   ],
   "source": [
    "def alphabet_position(text):\n",
    "    return ' '.join(str(ord(c) - 96) for c in text.lower() if c.isalpha())\n",
    "\n",
    "\n",
    "print(alphabet_position(\"The sunset sets at twelve o' clock.\"))\n",
    "print(alphabet_position(\"The narwhal bacons at midnight.\"))"
   ]
  },
  {
   "cell_type": "code",
   "execution_count": 14,
   "metadata": {},
   "outputs": [
    {
     "output_type": "stream",
     "name": "stdout",
     "text": [
      "20 8 5 19 21 14 19 5 20 19 5 20 19 1 20 20 23 5 12 22 5 15 3 12 15 3 11\n20 8 5 14 1 18 23 8 1 12 2 1 3 15 14 19 1 20 13 9 4 14 9 7 8 20\n"
     ]
    }
   ],
   "source": [
    "alphabet = 'abcdefghijklmnopqrstuvwxyz'\n",
    "\n",
    "def alphabet_position(text):\n",
    "    if type(text) == str:\n",
    "        text = text.lower()\n",
    "        result = ''\n",
    "        for letter in text:\n",
    "            if letter.isalpha() == True:\n",
    "                result = result + ' ' + str(alphabet.index(letter) + 1)\n",
    "        return result.lstrip(' ')\n",
    "\n",
    "\n",
    "print(alphabet_position(\"The sunset sets at twelve o' clock.\"))\n",
    "print(alphabet_position(\"The narwhal bacons at midnight.\"))"
   ]
  },
  {
   "cell_type": "code",
   "execution_count": 15,
   "metadata": {},
   "outputs": [
    {
     "output_type": "stream",
     "name": "stdout",
     "text": [
      "20 8 5 19 21 14 19 5 20 19 5 20 19 1 20 20 23 5 12 22 5 15 3 12 15 3 11\n20 8 5 14 1 18 23 8 1 12 2 1 3 15 14 19 1 20 13 9 4 14 9 7 8 20\n"
     ]
    }
   ],
   "source": [
    "def get_positions(text):\n",
    "    for char in text:\n",
    "        pos = ord(char)\n",
    "        if pos >= 65 and pos <= 90:\n",
    "            yield pos - 64\n",
    "        if pos >= 97 and pos <= 122:\n",
    "            yield pos - 96\n",
    "\n",
    "def alphabet_position(text):\n",
    "    return \" \".join((str(char) for char in get_positions(text)))\n",
    "\n",
    "\n",
    "print(alphabet_position(\"The sunset sets at twelve o' clock.\"))\n",
    "print(alphabet_position(\"The narwhal bacons at midnight.\"))"
   ]
  },
  {
   "cell_type": "code",
   "execution_count": 34,
   "metadata": {},
   "outputs": [
    {
     "output_type": "stream",
     "name": "stdout",
     "text": [
      "1\n-1\n"
     ]
    }
   ],
   "source": [
    "def get_sum(a,b):\n",
    "    somme = 0\n",
    "    if b < a:\n",
    "        a, b = b, a\n",
    "    for i in range(a, b+1):\n",
    "        somme += i\n",
    "    return somme    \n",
    "\n",
    "print(get_sum(0,1))\n",
    "print(get_sum(0,-1))"
   ]
  },
  {
   "cell_type": "code",
   "execution_count": 36,
   "metadata": {},
   "outputs": [
    {
     "output_type": "stream",
     "name": "stdout",
     "text": [
      "1\n-1\n"
     ]
    }
   ],
   "source": [
    "def get_sum(a,b):\n",
    "    return sum(range(min(a,b), max(a,b)+1))\n",
    "\n",
    "print(get_sum(0,1))\n",
    "print(get_sum(0,-1))"
   ]
  },
  {
   "cell_type": "code",
   "execution_count": 45,
   "metadata": {},
   "outputs": [
    {
     "output_type": "stream",
     "name": "stdout",
     "text": [
      "['*']\n[' * ', '***']\n['  *  ', ' *** ', '*****']\n"
     ]
    }
   ],
   "source": [
    "def tower_builder(n_floors):\n",
    "  n_floors += 1\n",
    "  result = []\n",
    "  for n in range(1, n_floors):\n",
    "    floor = ''\n",
    "    spaces = ''\n",
    "    stars = ''\n",
    "    \n",
    "    # Spaces\n",
    "    n_spaces = n_floors - n\n",
    "    for j in range(1, n_spaces):\n",
    "      spaces += ' '\n",
    "\n",
    "    # Stars\n",
    "    n_stars = 1 + (n - 1) * 2\n",
    "    for j in range(n_stars):\n",
    "      stars += '*'\n",
    "    \n",
    "    floor = spaces + stars + spaces\n",
    "    result.append(floor)\n",
    "      \n",
    "  return result\n",
    "\n",
    "print(tower_builder(1))\n",
    "print(tower_builder(2))\n",
    "print(tower_builder(3))"
   ]
  },
  {
   "cell_type": "code",
   "execution_count": 50,
   "metadata": {},
   "outputs": [
    {
     "output_type": "stream",
     "name": "stdout",
     "text": [
      "True\nmachin  :  False\nPortez ce vieux whisky au juge blond qui fume  :  True\nJoyeux, ivre, fatigué, le nez qui pique, Clown Hary skie dans l’ombre  :  True\nbizarre  :  False\n"
     ]
    }
   ],
   "source": [
    "def is_pangram(s):\n",
    "    s = s.lower()\n",
    "    alphabet = 'abcdefghijklmnopqrstuvwxyz'\n",
    "\n",
    "    for i in alphabet:\n",
    "        if i not in s :\n",
    "            return False\n",
    "    return True\n",
    "\n",
    "\n",
    "\n",
    "pangram = \"The quick, brown fox jumps over the lazy dog!\"\n",
    "print(is_pangram(pangram))\n",
    "\n",
    "\n",
    "liste_pangramme = ['machin', 'Portez ce vieux whisky au juge blond qui fume', 'Joyeux, ivre, fatigué, le nez qui pique, Clown Hary skie dans l’ombre', 'bizarre']\n",
    "\n",
    "for test in liste_pangramme:\n",
    "  print(test, ' : ', is_pangram(test))"
   ]
  },
  {
   "cell_type": "code",
   "execution_count": null,
   "metadata": {},
   "outputs": [],
   "source": [
    "import string\n",
    "\n",
    "def is_pangram(s):\n",
    "    return set(string.lowercase) <= set(s.lower())"
   ]
  },
  {
   "cell_type": "code",
   "execution_count": 56,
   "metadata": {},
   "outputs": [
    {
     "output_type": "stream",
     "name": "stdout",
     "text": [
      "['Open', 'Senior', 'Open', 'Senior']\n['Open', 'Open', 'Senior', 'Open']\n"
     ]
    }
   ],
   "source": [
    "def open_or_senior(data):\n",
    "    result = []\n",
    "    for i in range(len(data)):\n",
    "      if data[i][0] >= 55 and data[i][1] > 7:\n",
    "        result.append('Senior')\n",
    "      else:\n",
    "        result.append(('Open'))\n",
    "    return result\n",
    "\n",
    "\n",
    "print(open_or_senior([(45, 12),(55,21),(19, -2),(104, 20)]))\n",
    "print(open_or_senior([(16, 23),(73,1),(56, 20),(1, -1)]))"
   ]
  },
  {
   "cell_type": "code",
   "execution_count": null,
   "metadata": {},
   "outputs": [],
   "source": [
    "def openOrSenior(data):\n",
    "  return [\"Senior\" if age >= 55 and handicap >= 8 else \"Open\" for (age, handicap) in data]"
   ]
  },
  {
   "cell_type": "code",
   "execution_count": 72,
   "metadata": {},
   "outputs": [
    {
     "output_type": "stream",
     "name": "stdout",
     "text": [
      "['Ryan', 'Mark']\n['Ryan']\n['Jimm', 'Cari', 'aret']\n"
     ]
    }
   ],
   "source": [
    "def friend(x):\n",
    "    y = []\n",
    "    for i in x:\n",
    "        if len(i) == 4:\n",
    "            y.append(i)\n",
    "\n",
    "    return y\n",
    "    \n",
    "\n",
    "print(friend([\"Ryan\", \"Kieran\", \"Mark\",]))\n",
    "print(friend([\"Ryan\", \"Jimmy\", \"123\", \"4\", \"Cool Man\"]))\n",
    "print(friend([\"Jimm\", \"Cari\", \"aret\", \"truehdnviegkwgvke\", \"sixtyiscooooool\"]))"
   ]
  },
  {
   "cell_type": "code",
   "execution_count": null,
   "metadata": {},
   "outputs": [],
   "source": [
    "def friend(x):\n",
    "    return [f for f in x if len(f) == 4]"
   ]
  },
  {
   "cell_type": "code",
   "execution_count": 73,
   "metadata": {},
   "outputs": [
    {
     "output_type": "stream",
     "name": "stdout",
     "text": [
      "0\n5\n2\n15\n5\n9\n"
     ]
    }
   ],
   "source": [
    "def queue_time(customers, n):\n",
    "  caisses = []\n",
    "  for i in range(n):\n",
    "    caisses.append(0)\n",
    "  for i in customers:\n",
    "    caisses.sort()\n",
    "    caisses[0] += i\n",
    "  caisses.sort(reverse=True)\n",
    "  return caisses[0]\n",
    "\n",
    "print(queue_time([], 1))\n",
    "print(queue_time([5], 1))\n",
    "print(queue_time([2], 5))\n",
    "print(queue_time([1,2,3,4,5], 1))\n",
    "print(queue_time([1,2,3,4,5], 100))\n",
    "print(queue_time([2,2,3,3,4,4], 2))"
   ]
  },
  {
   "cell_type": "code",
   "execution_count": 1,
   "metadata": {},
   "outputs": [
    {
     "output_type": "stream",
     "name": "stdout",
     "text": [
      "taxi\nvolcano\nsemynak\n"
     ]
    }
   ],
   "source": [
    "def high(x):\n",
    "  listemots =[]\n",
    "  mot = ''\n",
    "  score = 0\n",
    "  scoresmots = []\n",
    "  # créer une liste avec les mots.\n",
    "  for i in x:\n",
    "    if i.isalpha():\n",
    "      mot += i\n",
    "    else:\n",
    "      listemots.append(mot)\n",
    "      mot=''\n",
    "  listemots.append(mot)\n",
    "# Créer la liste des scores.\n",
    "  for mot in listemots:\n",
    "    for i in mot:\n",
    "      score += ord(i) - 96\n",
    "    scoresmots.append(score)\n",
    "    score = 0\n",
    "# Cherche la position (l'index) du score le plus élevé (max)\n",
    "# Avec cette index renvoie le mot de 'listemots' concerné.\n",
    "  return listemots[scoresmots.index(max(scoresmots))]\n",
    "\n",
    "print(high('man i need a taxi up to ubud'))\n",
    "print(high('what time are we climbing up the volcano'))\n",
    "print(high('take me to semynak'))"
   ]
  },
  {
   "cell_type": "code",
   "execution_count": null,
   "metadata": {},
   "outputs": [],
   "source": [
    "def high(x):\n",
    "    return max(x.split(), key=lambda k: sum(ord(c) - 96 for c in k))\n"
   ]
  },
  {
   "cell_type": "code",
   "execution_count": null,
   "metadata": {},
   "outputs": [],
   "source": [
    "def high(x):\n",
    "    words=x.split(' ')\n",
    "    list = []\n",
    "    for i in words:\n",
    "        scores = [sum([ord(char) - 96 for char in i])]\n",
    "        list.append(scores)\n",
    "    return words[list.index(max(list))]"
   ]
  },
  {
   "cell_type": "code",
   "execution_count": 9,
   "metadata": {},
   "outputs": [
    {
     "output_type": "stream",
     "name": "stdout",
     "text": [
      "a clash of kings\na an the of\n['a', ' ', 'C', 'L', 'a', 'S', 'h', ' ', 'o', 'f', ' ', 'K', 'I', 'n', 'G', 'S']\nthe wind in the willows\nthe in\n['t', 'h', 'e', ' ', 'W', 'i', 'n', 'D', ' ', 'i', 'n', ' ', 't', 'h', 'e', ' ', 'W', 'i', 'L', 'L', 'O', 'W', 'S']\nthe quick brown fox\n\n['T', 'H', 'E', ' ', 'Q', 'U', 'I', 'C', 'K', ' ', 'B', 'R', 'O', 'W', 'N', ' ', 'F', 'O', 'X']\n"
     ]
    }
   ],
   "source": [
    "def title_case(title, minor_words=''):\n",
    "    title = title.lower()\n",
    "    print(title)\n",
    "    minor_words = minor_words.lower()\n",
    "    print(minor_words)\n",
    "    result = []\n",
    "    for word in title:\n",
    "        if word not in minor_words:\n",
    "            result.append(word.capitalize())\n",
    "        else:\n",
    "            result.append(word)\n",
    "    \n",
    "    return result\n",
    "\n",
    "\n",
    "print(title_case('a clash of KINGS', 'a an the of'))\n",
    "print(title_case('THE WIND IN THE WILLOWS', 'The In'))\n",
    "print(title_case('the quick brown fox'))"
   ]
  },
  {
   "cell_type": "code",
   "execution_count": 4,
   "metadata": {},
   "outputs": [
    {
     "output_type": "stream",
     "name": "stdout",
     "text": [
      "['C', 'u', 'c', 'u']\n"
     ]
    }
   ],
   "source": [
    "def LaFonction(x):\n",
    "    return [i for i in x if i.lower() in y]\n",
    "\n",
    "x = 'Coucou'\n",
    "y = ['c', 'u']\n",
    "print(LaFonction(x))"
   ]
  },
  {
   "cell_type": "code",
   "execution_count": null,
   "metadata": {},
   "outputs": [],
   "source": []
  }
 ]
}