{
 "metadata": {
  "language_info": {
   "codemirror_mode": {
    "name": "ipython",
    "version": 3
   },
   "file_extension": ".py",
   "mimetype": "text/x-python",
   "name": "python",
   "nbconvert_exporter": "python",
   "pygments_lexer": "ipython3",
   "version": "3.8.5-final"
  },
  "orig_nbformat": 2,
  "kernelspec": {
   "name": "python3",
   "display_name": "Python 3",
   "language": "python"
  }
 },
 "nbformat": 4,
 "nbformat_minor": 2,
 "cells": [
  {
   "cell_type": "code",
   "execution_count": 2,
   "metadata": {},
   "outputs": [
    {
     "output_type": "stream",
     "name": "stdout",
     "text": [
      "0 1\n1 2\n2 a\n[1, 2, 'b']\n"
     ]
    }
   ],
   "source": [
    "def filter_list(l):\n",
    "    for index, valeur in enumerate(l):\n",
    "        print(index, valeur)\n",
    "        if type(valeur) != int:\n",
    "            #print(index, valeur)\n",
    "            del l[index]\n",
    "    \n",
    "    return(l)\n",
    "    \n",
    "print(filter_list([1,2,'a','b']))"
   ]
  },
  {
   "cell_type": "code",
   "execution_count": 3,
   "metadata": {},
   "outputs": [
    {
     "output_type": "stream",
     "name": "stdout",
     "text": [
      "0 1\n1 2\n2 a\n3 b\n"
     ]
    }
   ],
   "source": [
    "list = [1,2,'a','b']\n",
    "for index, valeur in enumerate(list):\n",
    "    print(index, valeur)\n",
    "    "
   ]
  },
  {
   "cell_type": "code",
   "execution_count": 8,
   "metadata": {},
   "outputs": [
    {
     "output_type": "stream",
     "name": "stdout",
     "text": [
      "1 <class 'int'>\n2 <class 'int'>\na <class 'str'>\nb <class 'str'>\n[1, 2]\n"
     ]
    }
   ],
   "source": [
    "def filter_list(l):\n",
    "    liste = []\n",
    "    for valeur in l:\n",
    "        if type(valeur) == int:\n",
    "            liste.append(valeur)\n",
    "    return(liste)\n",
    "\n",
    "print(filter_list([1,2,'a','b']))"
   ]
  },
  {
   "cell_type": "code",
   "execution_count": 10,
   "metadata": {},
   "outputs": [
    {
     "output_type": "stream",
     "name": "stdout",
     "text": [
      "[1, 2]\n"
     ]
    }
   ],
   "source": [
    "def filter_list(l):\n",
    "  'return a new list with the strings filtered out'\n",
    "  return [i for i in l if not isinstance(i, str)]\n",
    "\n",
    "print(filter_list([1,2,'a','b']))"
   ]
  },
  {
   "cell_type": "code",
   "execution_count": 11,
   "metadata": {},
   "outputs": [
    {
     "output_type": "stream",
     "name": "stdout",
     "text": [
      "[1, 2]\n"
     ]
    }
   ],
   "source": [
    "def filter_list(l):\n",
    "    return [i for i in l if isinstance(i, int)]\n",
    "\n",
    "print(filter_list([1,2,'a','b']))"
   ]
  },
  {
   "cell_type": "code",
   "execution_count": 17,
   "metadata": {},
   "outputs": [
    {
     "output_type": "stream",
     "name": "stdout",
     "text": [
      "['c', 'o', 'u', 'c', 'o', 'u']\n['a', 'b', 'c', 'd', 'e', 'f', 'g', 'h', 'i', 'j', 'k', 'l', 'm', 'n', 'o', 'p', 'q', 'r', 's', 't', 'u', 'v', 'w', 'x', 'y', 'z'] 26\n"
     ]
    }
   ],
   "source": [
    "def is_isogram(string):\n",
    "    listestring = []\n",
    "    for i in string:\n",
    "        listestring.append(i)\n",
    "    return(listestring)\n",
    "\n",
    "print(is_isogram(\"coucou\"))\n",
    "print(is_isogram(\"abcdefghijklmnopqrstuvwxyz\"), len(is_isogram(\"abcdefghijklmnopqrstuvwxyz\")))"
   ]
  },
  {
   "cell_type": "code",
   "execution_count": 28,
   "metadata": {},
   "outputs": [
    {
     "output_type": "stream",
     "name": "stdout",
     "text": [
      "d\nDermatoglyphics False\nisogram True\na\naba False\nmoOse True\ns\nisIsogram False\n True\n"
     ]
    }
   ],
   "source": [
    "def is_isogram(string):\n",
    "    listestring = []\n",
    "    for i in string:\n",
    "        listestring.append(i)\n",
    "    for i in listestring:\n",
    "        c = i.lower()\n",
    "        if listestring.count(c) != 1:\n",
    "            print(c)\n",
    "            return(False)\n",
    "    return(True)\n",
    "\n",
    "listemots = [\"Dermatoglyphics\", \"isogram\", \"aba\", \"moOse\", \"isIsogram\", \"\"]\n",
    "\n",
    "for mot in listemots:\n",
    "    print(mot, is_isogram(mot))\n",
    "    "
   ]
  },
  {
   "cell_type": "code",
   "execution_count": 32,
   "metadata": {},
   "outputs": [
    {
     "output_type": "stream",
     "name": "stdout",
     "text": [
      "1\n"
     ]
    }
   ],
   "source": [
    "string = \"Dermatoglyphics\"\n",
    "print(string.count(\"D\"))"
   ]
  },
  {
   "cell_type": "code",
   "execution_count": 43,
   "metadata": {},
   "outputs": [
    {
     "output_type": "stream",
     "name": "stdout",
     "text": [
      "Dermatoglyphics True\nisogram True\naba False\nmoOse False\nisIsogram False\n True\n"
     ]
    }
   ],
   "source": [
    "def is_isogram(string):\n",
    "    string = string.lower()\n",
    "    for i in string:\n",
    "        if string.count(i) != 1:\n",
    "            return(False)\n",
    "    return(True)\n",
    "\n",
    "listemots = [\"Dermatoglyphics\", \"isogram\", \"aba\", \"moOse\", \"isIsogram\", \"\"]\n",
    "\n",
    "for mot in listemots:\n",
    "    print(mot, is_isogram(mot))"
   ]
  },
  {
   "cell_type": "code",
   "execution_count": 44,
   "metadata": {},
   "outputs": [
    {
     "output_type": "stream",
     "name": "stdout",
     "text": [
      "Dermatoglyphics True\nisogram True\naba False\nmoOse False\nisIsogram False\n True\n"
     ]
    }
   ],
   "source": [
    "def is_isogram(string):\n",
    "    return len(string) == len(set(string.lower()))\n",
    "\n",
    "listemots = [\"Dermatoglyphics\", \"isogram\", \"aba\", \"moOse\", \"isIsogram\", \"\"]\n",
    "\n",
    "for mot in listemots:\n",
    "    print(mot, is_isogram(mot))"
   ]
  },
  {
   "cell_type": "code",
   "execution_count": 23,
   "metadata": {},
   "outputs": [
    {
     "output_type": "stream",
     "name": "stdout",
     "text": [
      "-214 542\n"
     ]
    }
   ],
   "source": [
    "n = \"4 5 29 54 4 0 -214 542 -64 1 -3 6 -6\"\n",
    "\n",
    "listen = []\n",
    "car = \"\"\n",
    "for i in n:\n",
    "    if i != \" \":\n",
    "        car = car + i\n",
    "    else:\n",
    "        listen.append(int(car))\n",
    "        car = \"\"\n",
    "\n",
    "min = listen[0]\n",
    "max = listen[0]\n",
    "for i in range(1, len(listen)):\n",
    "    if min > listen[i]:\n",
    "        min = listen[i]\n",
    "    if max < listen[i]:\n",
    "        max = listen[i]\n",
    "\n",
    "print(str(min), str(max))"
   ]
  },
  {
   "cell_type": "code",
   "execution_count": 1,
   "metadata": {},
   "outputs": [
    {
     "output_type": "stream",
     "name": "stdout",
     "text": [
      "542 -214 542 -214\n1 -1 1 -1\n1 1 1 1\n-1 -1 -1 -1\n1 -1 1 -1\n1 0 1 0\n0 -1 0 -1\n42 42 42 42\n"
     ]
    }
   ],
   "source": [
    "def high_and_low(numbers):\n",
    "\n",
    "    list = []\n",
    "    car = \"\"\n",
    "    n = numbers + \" \"\n",
    "    for i in n:\n",
    "        if i != \" \":\n",
    "            car = car + i\n",
    "        else:\n",
    "            list.append(int(car))\n",
    "            car = \"\"\n",
    "\n",
    "    if len(list) == 1:\n",
    "        numbers = str(list[0]) + \" \" + str(list[0])\n",
    "        return numbers\n",
    "\n",
    "    min = list[0]\n",
    "    max = list[0]\n",
    "    for i in range(1, len(list)):\n",
    "        if min > list[i]:\n",
    "            min = list[i]\n",
    "        if max < list[i]:\n",
    "            max = list[i]\n",
    "    \n",
    "        numbers = str(max) + \" \" + str(min)\n",
    "    \n",
    "    return numbers\n",
    "\n",
    "\n",
    "print(high_and_low(\"4 5 29 54 4 0 -214 542 -64 1 -3 6 -6\"), \"542 -214\")\n",
    "print(high_and_low(\"1 -1\"), \"1 -1\")\n",
    "print(high_and_low(\"1 1\"), \"1 1\")\n",
    "print(high_and_low(\"-1 -1\"), \"-1 -1\")\n",
    "print(high_and_low(\"1 -1 0\"), \"1 -1\")\n",
    "print(high_and_low(\"1 1 0\"), \"1 0\")       \n",
    "print(high_and_low(\"-1 -1 0\"), \"0 -1\")\n",
    "print(high_and_low(\"42\"), \"42 42\")"
   ]
  },
  {
   "cell_type": "code",
   "execution_count": 2,
   "metadata": {},
   "outputs": [
    {
     "output_type": "stream",
     "name": "stdout",
     "text": [
      "542 -214 542 -214\n1 -1 1 -1\n1 1 1 1\n-1 -1 -1 -1\n1 -1 1 -1\n1 0 1 0\n0 -1 0 -1\n42 42 42 42\n"
     ]
    }
   ],
   "source": [
    "def high_and_low(numbers): #z.\n",
    "    nn = [int(s) for s in numbers.split(\" \")]\n",
    "    return \"%i %i\" % (max(nn),min(nn))\n",
    "\n",
    "print(high_and_low(\"4 5 29 54 4 0 -214 542 -64 1 -3 6 -6\"), \"542 -214\")\n",
    "print(high_and_low(\"1 -1\"), \"1 -1\")\n",
    "print(high_and_low(\"1 1\"), \"1 1\")\n",
    "print(high_and_low(\"-1 -1\"), \"-1 -1\")\n",
    "print(high_and_low(\"1 -1 0\"), \"1 -1\")\n",
    "print(high_and_low(\"1 1 0\"), \"1 0\")       \n",
    "print(high_and_low(\"-1 -1 0\"), \"0 -1\")\n",
    "print(high_and_low(\"42\"), \"42 42\")"
   ]
  },
  {
   "cell_type": "code",
   "execution_count": 4,
   "metadata": {},
   "outputs": [
    {
     "output_type": "stream",
     "name": "stdout",
     "text": [
      "144\n-1\n"
     ]
    }
   ],
   "source": [
    "from math import sqrt\n",
    "\n",
    "def find_next_square(sq):\n",
    "    resultat = sqrt(sq)\n",
    "    if int(resultat) != resultat:\n",
    "        return -1\n",
    "\n",
    "    return int((sqrt(sq)+1) ** 2)\n",
    "\n",
    "\n",
    "print(find_next_square(121))\n",
    "print(find_next_square(122))"
   ]
  },
  {
   "cell_type": "code",
   "execution_count": null,
   "metadata": {},
   "outputs": [],
   "source": [
    "def find_next_square(sq):\n",
    "    root = sq ** 0.5\n",
    "    if root.is_integer():\n",
    "        return (root + 1)**2\n",
    "    return -1\n"
   ]
  }
 ]
}