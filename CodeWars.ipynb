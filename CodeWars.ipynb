{
 "metadata": {
  "language_info": {
   "codemirror_mode": {
    "name": "ipython",
    "version": 3
   },
   "file_extension": ".py",
   "mimetype": "text/x-python",
   "name": "python",
   "nbconvert_exporter": "python",
   "pygments_lexer": "ipython3",
   "version": "3.8.5-final"
  },
  "orig_nbformat": 2,
  "kernelspec": {
   "name": "python3",
   "display_name": "Python 3",
   "language": "python"
  }
 },
 "nbformat": 4,
 "nbformat_minor": 2,
 "cells": [
  {
   "cell_type": "code",
   "execution_count": 2,
   "metadata": {},
   "outputs": [
    {
     "output_type": "stream",
     "name": "stdout",
     "text": [
      "0 1\n1 2\n2 a\n[1, 2, 'b']\n"
     ]
    }
   ],
   "source": [
    "def filter_list(l):\n",
    "    for index, valeur in enumerate(l):\n",
    "        print(index, valeur)\n",
    "        if type(valeur) != int:\n",
    "            #print(index, valeur)\n",
    "            del l[index]\n",
    "    \n",
    "    return(l)\n",
    "    \n",
    "print(filter_list([1,2,'a','b']))"
   ]
  },
  {
   "cell_type": "code",
   "execution_count": 3,
   "metadata": {},
   "outputs": [
    {
     "output_type": "stream",
     "name": "stdout",
     "text": [
      "0 1\n1 2\n2 a\n3 b\n"
     ]
    }
   ],
   "source": [
    "list = [1,2,'a','b']\n",
    "for index, valeur in enumerate(list):\n",
    "    print(index, valeur)\n",
    "    "
   ]
  },
  {
   "cell_type": "code",
   "execution_count": 8,
   "metadata": {},
   "outputs": [
    {
     "output_type": "stream",
     "name": "stdout",
     "text": [
      "1 <class 'int'>\n2 <class 'int'>\na <class 'str'>\nb <class 'str'>\n[1, 2]\n"
     ]
    }
   ],
   "source": [
    "def filter_list(l):\n",
    "    liste = []\n",
    "    for valeur in l:\n",
    "        if type(valeur) == int:\n",
    "            liste.append(valeur)\n",
    "    return(liste)\n",
    "\n",
    "print(filter_list([1,2,'a','b']))"
   ]
  },
  {
   "cell_type": "code",
   "execution_count": 10,
   "metadata": {},
   "outputs": [
    {
     "output_type": "stream",
     "name": "stdout",
     "text": [
      "[1, 2]\n"
     ]
    }
   ],
   "source": [
    "def filter_list(l):\n",
    "  'return a new list with the strings filtered out'\n",
    "  return [i for i in l if not isinstance(i, str)]\n",
    "\n",
    "print(filter_list([1,2,'a','b']))"
   ]
  },
  {
   "cell_type": "code",
   "execution_count": 11,
   "metadata": {},
   "outputs": [
    {
     "output_type": "stream",
     "name": "stdout",
     "text": [
      "[1, 2]\n"
     ]
    }
   ],
   "source": [
    "def filter_list(l):\n",
    "    return [i for i in l if isinstance(i, int)]\n",
    "\n",
    "print(filter_list([1,2,'a','b']))"
   ]
  },
  {
   "cell_type": "code",
   "execution_count": 17,
   "metadata": {},
   "outputs": [
    {
     "output_type": "stream",
     "name": "stdout",
     "text": [
      "['c', 'o', 'u', 'c', 'o', 'u']\n['a', 'b', 'c', 'd', 'e', 'f', 'g', 'h', 'i', 'j', 'k', 'l', 'm', 'n', 'o', 'p', 'q', 'r', 's', 't', 'u', 'v', 'w', 'x', 'y', 'z'] 26\n"
     ]
    }
   ],
   "source": [
    "def is_isogram(string):\n",
    "    listestring = []\n",
    "    for i in string:\n",
    "        listestring.append(i)\n",
    "    return(listestring)\n",
    "\n",
    "print(is_isogram(\"coucou\"))\n",
    "print(is_isogram(\"abcdefghijklmnopqrstuvwxyz\"), len(is_isogram(\"abcdefghijklmnopqrstuvwxyz\")))"
   ]
  },
  {
   "cell_type": "code",
   "execution_count": 28,
   "metadata": {},
   "outputs": [
    {
     "output_type": "stream",
     "name": "stdout",
     "text": [
      "d\nDermatoglyphics False\nisogram True\na\naba False\nmoOse True\ns\nisIsogram False\n True\n"
     ]
    }
   ],
   "source": [
    "def is_isogram(string):\n",
    "    listestring = []\n",
    "    for i in string:\n",
    "        listestring.append(i)\n",
    "    for i in listestring:\n",
    "        c = i.lower()\n",
    "        if listestring.count(c) != 1:\n",
    "            print(c)\n",
    "            return(False)\n",
    "    return(True)\n",
    "\n",
    "listemots = [\"Dermatoglyphics\", \"isogram\", \"aba\", \"moOse\", \"isIsogram\", \"\"]\n",
    "\n",
    "for mot in listemots:\n",
    "    print(mot, is_isogram(mot))\n",
    "    "
   ]
  },
  {
   "cell_type": "code",
   "execution_count": 32,
   "metadata": {},
   "outputs": [
    {
     "output_type": "stream",
     "name": "stdout",
     "text": [
      "1\n"
     ]
    }
   ],
   "source": [
    "string = \"Dermatoglyphics\"\n",
    "print(string.count(\"D\"))"
   ]
  },
  {
   "cell_type": "code",
   "execution_count": 43,
   "metadata": {},
   "outputs": [
    {
     "output_type": "stream",
     "name": "stdout",
     "text": [
      "Dermatoglyphics True\nisogram True\naba False\nmoOse False\nisIsogram False\n True\n"
     ]
    }
   ],
   "source": [
    "def is_isogram(string):\n",
    "    string = string.lower()\n",
    "    for i in string:\n",
    "        if string.count(i) != 1:\n",
    "            return(False)\n",
    "    return(True)\n",
    "\n",
    "listemots = [\"Dermatoglyphics\", \"isogram\", \"aba\", \"moOse\", \"isIsogram\", \"\"]\n",
    "\n",
    "for mot in listemots:\n",
    "    print(mot, is_isogram(mot))"
   ]
  },
  {
   "cell_type": "code",
   "execution_count": 44,
   "metadata": {},
   "outputs": [
    {
     "output_type": "stream",
     "name": "stdout",
     "text": [
      "Dermatoglyphics True\nisogram True\naba False\nmoOse False\nisIsogram False\n True\n"
     ]
    }
   ],
   "source": [
    "def is_isogram(string):\n",
    "    return len(string) == len(set(string.lower()))\n",
    "\n",
    "listemots = [\"Dermatoglyphics\", \"isogram\", \"aba\", \"moOse\", \"isIsogram\", \"\"]\n",
    "\n",
    "for mot in listemots:\n",
    "    print(mot, is_isogram(mot))"
   ]
  },
  {
   "cell_type": "code",
   "execution_count": null,
   "metadata": {},
   "outputs": [],
   "source": [
    "def high_and_low(numbers):\n",
    "    min = 0\n",
    "    max = 0\n",
    "    for i in numbers:\n",
    "        if i < min:\n",
    "            "
   ]
  }
 ]
}